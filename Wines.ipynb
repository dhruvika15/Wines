{
 "cells": [
  {
   "cell_type": "code",
   "execution_count": 1,
   "id": "24c057e3",
   "metadata": {},
   "outputs": [],
   "source": [
    "import pandas "
   ]
  },
  {
   "cell_type": "code",
   "execution_count": 2,
   "id": "a7320617",
   "metadata": {},
   "outputs": [],
   "source": [
    "dataset=pandas.read_csv('wines.csv')"
   ]
  },
  {
   "cell_type": "code",
   "execution_count": 3,
   "id": "c143697e",
   "metadata": {},
   "outputs": [
    {
     "data": {
      "text/html": [
       "<div>\n",
       "<style scoped>\n",
       "    .dataframe tbody tr th:only-of-type {\n",
       "        vertical-align: middle;\n",
       "    }\n",
       "\n",
       "    .dataframe tbody tr th {\n",
       "        vertical-align: top;\n",
       "    }\n",
       "\n",
       "    .dataframe thead th {\n",
       "        text-align: right;\n",
       "    }\n",
       "</style>\n",
       "<table border=\"1\" class=\"dataframe\">\n",
       "  <thead>\n",
       "    <tr style=\"text-align: right;\">\n",
       "      <th></th>\n",
       "      <th>Wine</th>\n",
       "      <th>Alcohol</th>\n",
       "      <th>Malic.acid</th>\n",
       "      <th>Ash</th>\n",
       "      <th>Acl</th>\n",
       "      <th>Mg</th>\n",
       "      <th>Phenols</th>\n",
       "      <th>Flavanoids</th>\n",
       "      <th>Nonflavanoid.phenols</th>\n",
       "      <th>Proanth</th>\n",
       "      <th>Color.int</th>\n",
       "      <th>Hue</th>\n",
       "      <th>OD</th>\n",
       "      <th>Proline</th>\n",
       "    </tr>\n",
       "  </thead>\n",
       "  <tbody>\n",
       "    <tr>\n",
       "      <th>0</th>\n",
       "      <td>1</td>\n",
       "      <td>14.23</td>\n",
       "      <td>1.71</td>\n",
       "      <td>2.43</td>\n",
       "      <td>15.6</td>\n",
       "      <td>127</td>\n",
       "      <td>2.80</td>\n",
       "      <td>3.06</td>\n",
       "      <td>0.28</td>\n",
       "      <td>2.29</td>\n",
       "      <td>5.64</td>\n",
       "      <td>1.04</td>\n",
       "      <td>3.92</td>\n",
       "      <td>1065</td>\n",
       "    </tr>\n",
       "    <tr>\n",
       "      <th>1</th>\n",
       "      <td>1</td>\n",
       "      <td>13.20</td>\n",
       "      <td>1.78</td>\n",
       "      <td>2.14</td>\n",
       "      <td>11.2</td>\n",
       "      <td>100</td>\n",
       "      <td>2.65</td>\n",
       "      <td>2.76</td>\n",
       "      <td>0.26</td>\n",
       "      <td>1.28</td>\n",
       "      <td>4.38</td>\n",
       "      <td>1.05</td>\n",
       "      <td>3.40</td>\n",
       "      <td>1050</td>\n",
       "    </tr>\n",
       "  </tbody>\n",
       "</table>\n",
       "</div>"
      ],
      "text/plain": [
       "   Wine  Alcohol  Malic.acid   Ash   Acl   Mg  Phenols  Flavanoids  \\\n",
       "0     1    14.23        1.71  2.43  15.6  127     2.80        3.06   \n",
       "1     1    13.20        1.78  2.14  11.2  100     2.65        2.76   \n",
       "\n",
       "   Nonflavanoid.phenols  Proanth  Color.int   Hue    OD  Proline  \n",
       "0                  0.28     2.29       5.64  1.04  3.92     1065  \n",
       "1                  0.26     1.28       4.38  1.05  3.40     1050  "
      ]
     },
     "execution_count": 3,
     "metadata": {},
     "output_type": "execute_result"
    }
   ],
   "source": [
    "dataset.head(2)"
   ]
  },
  {
   "cell_type": "code",
   "execution_count": 4,
   "id": "7a582707",
   "metadata": {},
   "outputs": [
    {
     "name": "stdout",
     "output_type": "stream",
     "text": [
      "<class 'pandas.core.frame.DataFrame'>\n",
      "RangeIndex: 178 entries, 0 to 177\n",
      "Data columns (total 14 columns):\n",
      " #   Column                Non-Null Count  Dtype  \n",
      "---  ------                --------------  -----  \n",
      " 0   Wine                  178 non-null    int64  \n",
      " 1   Alcohol               178 non-null    float64\n",
      " 2   Malic.acid            178 non-null    float64\n",
      " 3   Ash                   178 non-null    float64\n",
      " 4   Acl                   178 non-null    float64\n",
      " 5   Mg                    178 non-null    int64  \n",
      " 6   Phenols               178 non-null    float64\n",
      " 7   Flavanoids            178 non-null    float64\n",
      " 8   Nonflavanoid.phenols  178 non-null    float64\n",
      " 9   Proanth               178 non-null    float64\n",
      " 10  Color.int             178 non-null    float64\n",
      " 11  Hue                   178 non-null    float64\n",
      " 12  OD                    178 non-null    float64\n",
      " 13  Proline               178 non-null    int64  \n",
      "dtypes: float64(11), int64(3)\n",
      "memory usage: 19.6 KB\n"
     ]
    }
   ],
   "source": [
    "dataset.info()"
   ]
  },
  {
   "cell_type": "code",
   "execution_count": 5,
   "id": "406d6dbf",
   "metadata": {},
   "outputs": [
    {
     "data": {
      "text/plain": [
       "Index(['Wine', 'Alcohol', 'Malic.acid', 'Ash', 'Acl', 'Mg', 'Phenols',\n",
       "       'Flavanoids', 'Nonflavanoid.phenols', 'Proanth', 'Color.int', 'Hue',\n",
       "       'OD', 'Proline'],\n",
       "      dtype='object')"
      ]
     },
     "execution_count": 5,
     "metadata": {},
     "output_type": "execute_result"
    }
   ],
   "source": [
    "dataset.columns"
   ]
  },
  {
   "cell_type": "code",
   "execution_count": 6,
   "id": "0b8e5533",
   "metadata": {},
   "outputs": [],
   "source": [
    "y = dataset[\"Wine\"]"
   ]
  },
  {
   "cell_type": "code",
   "execution_count": 7,
   "id": "cd7a9dc9",
   "metadata": {},
   "outputs": [],
   "source": [
    "X = dataset[['Alcohol', 'Malic.acid', 'Ash', 'Acl', 'Mg', 'Phenols',\n",
    "       'Flavanoids', 'Nonflavanoid.phenols', 'Proanth', 'Color.int', 'Hue',\n",
    "       'OD', 'Proline']]"
   ]
  },
  {
   "cell_type": "code",
   "execution_count": 1,
   "id": "144310e8",
   "metadata": {},
   "outputs": [
    {
     "ename": "ImportError",
     "evalue": "cannot import name 'StandardScalar' from 'sklearn.preprocessing' (C:\\Users\\dhruv\\anaconda3\\lib\\site-packages\\sklearn\\preprocessing\\__init__.py)",
     "output_type": "error",
     "traceback": [
      "\u001b[1;31m---------------------------------------------------------------------------\u001b[0m",
      "\u001b[1;31mImportError\u001b[0m                               Traceback (most recent call last)",
      "\u001b[1;32m<ipython-input-1-1f73df509116>\u001b[0m in \u001b[0;36m<module>\u001b[1;34m\u001b[0m\n\u001b[1;32m----> 1\u001b[1;33m \u001b[1;32mfrom\u001b[0m \u001b[0msklearn\u001b[0m\u001b[1;33m.\u001b[0m\u001b[0mpreprocessing\u001b[0m \u001b[1;32mimport\u001b[0m \u001b[0mStandardScalar\u001b[0m\u001b[1;33m\u001b[0m\u001b[1;33m\u001b[0m\u001b[0m\n\u001b[0m",
      "\u001b[1;31mImportError\u001b[0m: cannot import name 'StandardScalar' from 'sklearn.preprocessing' (C:\\Users\\dhruv\\anaconda3\\lib\\site-packages\\sklearn\\preprocessing\\__init__.py)"
     ]
    }
   ],
   "source": [
    "from sklearn.preprocessing import StandardScalar"
   ]
  },
  {
   "cell_type": "code",
   "execution_count": null,
   "id": "3a102f8d",
   "metadata": {},
   "outputs": [],
   "source": []
  },
  {
   "cell_type": "code",
   "execution_count": 8,
   "id": "1c7fdc25",
   "metadata": {},
   "outputs": [
    {
     "data": {
      "text/plain": [
       "0      1\n",
       "1      1\n",
       "2      1\n",
       "3      1\n",
       "4      1\n",
       "      ..\n",
       "173    3\n",
       "174    3\n",
       "175    3\n",
       "176    3\n",
       "177    3\n",
       "Name: Wine, Length: 178, dtype: int64"
      ]
     },
     "execution_count": 8,
     "metadata": {},
     "output_type": "execute_result"
    }
   ],
   "source": [
    "y"
   ]
  },
  {
   "cell_type": "code",
   "execution_count": 9,
   "id": "689fdb5e",
   "metadata": {},
   "outputs": [
    {
     "data": {
      "text/plain": [
       "pandas.core.series.Series"
      ]
     },
     "execution_count": 9,
     "metadata": {},
     "output_type": "execute_result"
    }
   ],
   "source": [
    "type(y)"
   ]
  },
  {
   "cell_type": "code",
   "execution_count": 10,
   "id": "8dcd72ed",
   "metadata": {},
   "outputs": [
    {
     "data": {
      "text/plain": [
       "2    71\n",
       "1    59\n",
       "3    48\n",
       "Name: Wine, dtype: int64"
      ]
     },
     "execution_count": 10,
     "metadata": {},
     "output_type": "execute_result"
    }
   ],
   "source": [
    "y.value_counts()"
   ]
  },
  {
   "cell_type": "code",
   "execution_count": 11,
   "id": "394c8538",
   "metadata": {},
   "outputs": [],
   "source": [
    "y_cat = pandas.get_dummies(y)"
   ]
  },
  {
   "cell_type": "code",
   "execution_count": 12,
   "id": "f9018af3",
   "metadata": {},
   "outputs": [
    {
     "data": {
      "text/html": [
       "<div>\n",
       "<style scoped>\n",
       "    .dataframe tbody tr th:only-of-type {\n",
       "        vertical-align: middle;\n",
       "    }\n",
       "\n",
       "    .dataframe tbody tr th {\n",
       "        vertical-align: top;\n",
       "    }\n",
       "\n",
       "    .dataframe thead th {\n",
       "        text-align: right;\n",
       "    }\n",
       "</style>\n",
       "<table border=\"1\" class=\"dataframe\">\n",
       "  <thead>\n",
       "    <tr style=\"text-align: right;\">\n",
       "      <th></th>\n",
       "      <th>1</th>\n",
       "      <th>2</th>\n",
       "      <th>3</th>\n",
       "    </tr>\n",
       "  </thead>\n",
       "  <tbody>\n",
       "    <tr>\n",
       "      <th>0</th>\n",
       "      <td>1</td>\n",
       "      <td>0</td>\n",
       "      <td>0</td>\n",
       "    </tr>\n",
       "    <tr>\n",
       "      <th>1</th>\n",
       "      <td>1</td>\n",
       "      <td>0</td>\n",
       "      <td>0</td>\n",
       "    </tr>\n",
       "    <tr>\n",
       "      <th>2</th>\n",
       "      <td>1</td>\n",
       "      <td>0</td>\n",
       "      <td>0</td>\n",
       "    </tr>\n",
       "    <tr>\n",
       "      <th>3</th>\n",
       "      <td>1</td>\n",
       "      <td>0</td>\n",
       "      <td>0</td>\n",
       "    </tr>\n",
       "    <tr>\n",
       "      <th>4</th>\n",
       "      <td>1</td>\n",
       "      <td>0</td>\n",
       "      <td>0</td>\n",
       "    </tr>\n",
       "    <tr>\n",
       "      <th>...</th>\n",
       "      <td>...</td>\n",
       "      <td>...</td>\n",
       "      <td>...</td>\n",
       "    </tr>\n",
       "    <tr>\n",
       "      <th>173</th>\n",
       "      <td>0</td>\n",
       "      <td>0</td>\n",
       "      <td>1</td>\n",
       "    </tr>\n",
       "    <tr>\n",
       "      <th>174</th>\n",
       "      <td>0</td>\n",
       "      <td>0</td>\n",
       "      <td>1</td>\n",
       "    </tr>\n",
       "    <tr>\n",
       "      <th>175</th>\n",
       "      <td>0</td>\n",
       "      <td>0</td>\n",
       "      <td>1</td>\n",
       "    </tr>\n",
       "    <tr>\n",
       "      <th>176</th>\n",
       "      <td>0</td>\n",
       "      <td>0</td>\n",
       "      <td>1</td>\n",
       "    </tr>\n",
       "    <tr>\n",
       "      <th>177</th>\n",
       "      <td>0</td>\n",
       "      <td>0</td>\n",
       "      <td>1</td>\n",
       "    </tr>\n",
       "  </tbody>\n",
       "</table>\n",
       "<p>178 rows × 3 columns</p>\n",
       "</div>"
      ],
      "text/plain": [
       "     1  2  3\n",
       "0    1  0  0\n",
       "1    1  0  0\n",
       "2    1  0  0\n",
       "3    1  0  0\n",
       "4    1  0  0\n",
       "..  .. .. ..\n",
       "173  0  0  1\n",
       "174  0  0  1\n",
       "175  0  0  1\n",
       "176  0  0  1\n",
       "177  0  0  1\n",
       "\n",
       "[178 rows x 3 columns]"
      ]
     },
     "execution_count": 12,
     "metadata": {},
     "output_type": "execute_result"
    }
   ],
   "source": [
    "y_cat"
   ]
  },
  {
   "cell_type": "code",
   "execution_count": 13,
   "id": "02f10222",
   "metadata": {},
   "outputs": [],
   "source": [
    " in_shape=X.shape[1]"
   ]
  },
  {
   "cell_type": "code",
   "execution_count": 14,
   "id": "601c5a62",
   "metadata": {},
   "outputs": [
    {
     "data": {
      "text/plain": [
       "13"
      ]
     },
     "execution_count": 14,
     "metadata": {},
     "output_type": "execute_result"
    }
   ],
   "source": [
    "in_shape"
   ]
  },
  {
   "cell_type": "code",
   "execution_count": 15,
   "id": "47c1764c",
   "metadata": {},
   "outputs": [],
   "source": [
    "import seaborn"
   ]
  },
  {
   "cell_type": "code",
   "execution_count": 16,
   "id": "e2af9d4a",
   "metadata": {},
   "outputs": [
    {
     "data": {
      "text/plain": [
       "<AxesSubplot:xlabel='Alcohol', ylabel='Wine'>"
      ]
     },
     "execution_count": 16,
     "metadata": {},
     "output_type": "execute_result"
    },
    {
     "data": {
      "image/png": "[encoded data removed]",
      "text/plain": [
       "<Figure size 432x288 with 1 Axes>"
      ]
     },
     "metadata": {
      "needs_background": "light"
     },
     "output_type": "display_data"
    }
   ],
   "source": [
    "seaborn.scatterplot(x='Alcohol', y='Wine', data= dataset)"
   ]
  },
  {
   "cell_type": "code",
   "execution_count": 17,
   "id": "60ea32f6",
   "metadata": {},
   "outputs": [],
   "source": [
    "from keras.models import Sequential"
   ]
  },
  {
   "cell_type": "code",
   "execution_count": 18,
   "id": "4d9fda0f",
   "metadata": {},
   "outputs": [],
   "source": [
    "model = Sequential()"
   ]
  },
  {
   "cell_type": "code",
   "execution_count": 19,
   "id": "3277fa2b",
   "metadata": {},
   "outputs": [
    {
     "data": {
      "text/plain": [
       "{'name': 'sequential', 'layers': []}"
      ]
     },
     "execution_count": 19,
     "metadata": {},
     "output_type": "execute_result"
    }
   ],
   "source": [
    "model.get_config()"
   ]
  },
  {
   "cell_type": "code",
   "execution_count": 20,
   "id": "fb9df422",
   "metadata": {},
   "outputs": [],
   "source": [
    "from keras.layers import Dense"
   ]
  },
  {
   "cell_type": "code",
   "execution_count": 21,
   "id": "3bf14b8b",
   "metadata": {},
   "outputs": [],
   "source": [
    "model.add(Dense(\n",
    "units =6,\n",
    "input_shape = (in_shape,),\n",
    "activation = 'relu',\n",
    "kernel_initializer = 'he_normal'\n",
    "))\n",
    "#if we do not mention any initializer here, \n",
    "#by default Glorot uniform initializer is used for kernel\n",
    "#and zeros for bias\n"
   ]
  },
  {
   "cell_type": "code",
   "execution_count": 22,
   "id": "e974a5ce",
   "metadata": {},
   "outputs": [],
   "source": [
    "#output layer\n",
    "model.add(Dense(\n",
    "units =3,\n",
    "activation = 'softmax'\n",
    "))"
   ]
  },
  {
   "cell_type": "code",
   "execution_count": 23,
   "id": "24200898",
   "metadata": {},
   "outputs": [
    {
     "name": "stdout",
     "output_type": "stream",
     "text": [
      "Model: \"sequential\"\n",
      "_________________________________________________________________\n",
      " Layer (type)                Output Shape              Param #   \n",
      "=================================================================\n",
      " dense (Dense)               (None, 6)                 84        \n",
      "                                                                 \n",
      " dense_1 (Dense)             (None, 3)                 21        \n",
      "                                                                 \n",
      "=================================================================\n",
      "Total params: 105\n",
      "Trainable params: 105\n",
      "Non-trainable params: 0\n",
      "_________________________________________________________________\n"
     ]
    }
   ],
   "source": [
    "model.summary()"
   ]
  },
  {
   "cell_type": "code",
   "execution_count": 24,
   "id": "f9d97b5c",
   "metadata": {},
   "outputs": [],
   "source": [
    "model.compile(optimizer='adam', \n",
    "              loss='categorical_crossentropy',\n",
    "              metrics=['accuracy'])"
   ]
  },
  {
   "cell_type": "code",
   "execution_count": 25,
   "id": "7023c304",
   "metadata": {},
   "outputs": [
    {
     "name": "stdout",
     "output_type": "stream",
     "text": [
      "Epoch 1/100\n",
      "6/6 [==============================] - 0s 2ms/step - loss: 61.3618 - accuracy: 0.3315\n",
      "Epoch 2/100\n",
      "6/6 [==============================] - 0s 3ms/step - loss: 52.6835 - accuracy: 0.3202\n",
      "Epoch 3/100\n",
      "6/6 [==============================] - 0s 2ms/step - loss: 48.2360 - accuracy: 0.2472\n",
      "Epoch 4/100\n",
      "6/6 [==============================] - 0s 3ms/step - loss: 43.9496 - accuracy: 0.3539\n",
      "Epoch 5/100\n",
      "6/6 [==============================] - 0s 3ms/step - loss: 40.0208 - accuracy: 0.3596\n",
      "Epoch 6/100\n",
      "6/6 [==============================] - 0s 3ms/step - loss: 36.2316 - accuracy: 0.2697\n",
      "Epoch 7/100\n",
      "6/6 [==============================] - 0s 3ms/step - loss: 32.1147 - accuracy: 0.3989\n",
      "Epoch 8/100\n",
      "6/6 [==============================] - 0s 3ms/step - loss: 28.2784 - accuracy: 0.3764\n",
      "Epoch 9/100\n",
      "6/6 [==============================] - 0s 5ms/step - loss: 24.2370 - accuracy: 0.4157\n",
      "Epoch 10/100\n",
      "6/6 [==============================] - 0s 3ms/step - loss: 20.4128 - accuracy: 0.4157\n",
      "Epoch 11/100\n",
      "6/6 [==============================] - 0s 3ms/step - loss: 16.7261 - accuracy: 0.4438\n",
      "Epoch 12/100\n",
      "6/6 [==============================] - 0s 3ms/step - loss: 13.2136 - accuracy: 0.4494\n",
      "Epoch 13/100\n",
      "6/6 [==============================] - 0s 4ms/step - loss: 10.0510 - accuracy: 0.5056\n",
      "Epoch 14/100\n",
      "6/6 [==============================] - 0s 2ms/step - loss: 7.5182 - accuracy: 0.5112\n",
      "Epoch 15/100\n",
      "6/6 [==============================] - 0s 4ms/step - loss: 5.4324 - accuracy: 0.5787\n",
      "Epoch 16/100\n",
      "6/6 [==============================] - 0s 5ms/step - loss: 4.5422 - accuracy: 0.5506\n",
      "Epoch 17/100\n",
      "6/6 [==============================] - 0s 4ms/step - loss: 3.9489 - accuracy: 0.6236\n",
      "Epoch 18/100\n",
      "6/6 [==============================] - 0s 4ms/step - loss: 3.9124 - accuracy: 0.6629\n",
      "Epoch 19/100\n",
      "6/6 [==============================] - 0s 5ms/step - loss: 3.7141 - accuracy: 0.6573\n",
      "Epoch 20/100\n",
      "6/6 [==============================] - 0s 3ms/step - loss: 3.6988 - accuracy: 0.6629\n",
      "Epoch 21/100\n",
      "6/6 [==============================] - 0s 4ms/step - loss: 3.6529 - accuracy: 0.6854\n",
      "Epoch 22/100\n",
      "6/6 [==============================] - 0s 4ms/step - loss: 3.6166 - accuracy: 0.6629\n",
      "Epoch 23/100\n",
      "6/6 [==============================] - 0s 3ms/step - loss: 3.5391 - accuracy: 0.6910\n",
      "Epoch 24/100\n",
      "6/6 [==============================] - 0s 4ms/step - loss: 3.4920 - accuracy: 0.7022\n",
      "Epoch 25/100\n",
      "6/6 [==============================] - 0s 3ms/step - loss: 3.4493 - accuracy: 0.6910\n",
      "Epoch 26/100\n",
      "6/6 [==============================] - 0s 3ms/step - loss: 3.4312 - accuracy: 0.6854\n",
      "Epoch 27/100\n",
      "6/6 [==============================] - 0s 3ms/step - loss: 3.3705 - accuracy: 0.7022\n",
      "Epoch 28/100\n",
      "6/6 [==============================] - 0s 3ms/step - loss: 3.3680 - accuracy: 0.6798\n",
      "Epoch 29/100\n",
      "6/6 [==============================] - 0s 4ms/step - loss: 3.3174 - accuracy: 0.7079\n",
      "Epoch 30/100\n",
      "6/6 [==============================] - 0s 3ms/step - loss: 3.2817 - accuracy: 0.7135\n",
      "Epoch 31/100\n",
      "6/6 [==============================] - 0s 3ms/step - loss: 3.2538 - accuracy: 0.7135\n",
      "Epoch 32/100\n",
      "6/6 [==============================] - 0s 2ms/step - loss: 3.2540 - accuracy: 0.7022\n",
      "Epoch 33/100\n",
      "6/6 [==============================] - 0s 4ms/step - loss: 3.1997 - accuracy: 0.6966\n",
      "Epoch 34/100\n",
      "6/6 [==============================] - 0s 3ms/step - loss: 3.1571 - accuracy: 0.6798\n",
      "Epoch 35/100\n",
      "6/6 [==============================] - 0s 3ms/step - loss: 3.1438 - accuracy: 0.7191\n",
      "Epoch 36/100\n",
      "6/6 [==============================] - 0s 3ms/step - loss: 3.0881 - accuracy: 0.7191\n",
      "Epoch 37/100\n",
      "6/6 [==============================] - 0s 4ms/step - loss: 3.0772 - accuracy: 0.6742\n",
      "Epoch 38/100\n",
      "6/6 [==============================] - 0s 3ms/step - loss: 3.0749 - accuracy: 0.6966\n",
      "Epoch 39/100\n",
      "6/6 [==============================] - 0s 3ms/step - loss: 3.0321 - accuracy: 0.7135\n",
      "Epoch 40/100\n",
      "6/6 [==============================] - 0s 3ms/step - loss: 2.9788 - accuracy: 0.6910\n",
      "Epoch 41/100\n",
      "6/6 [==============================] - 0s 3ms/step - loss: 2.9667 - accuracy: 0.7135\n",
      "Epoch 42/100\n",
      "6/6 [==============================] - 0s 2ms/step - loss: 2.9276 - accuracy: 0.7022\n",
      "Epoch 43/100\n",
      "6/6 [==============================] - 0s 4ms/step - loss: 2.9002 - accuracy: 0.6966\n",
      "Epoch 44/100\n",
      "6/6 [==============================] - 0s 2ms/step - loss: 2.8665 - accuracy: 0.7135\n",
      "Epoch 45/100\n",
      "6/6 [==============================] - 0s 2ms/step - loss: 2.8433 - accuracy: 0.7247\n",
      "Epoch 46/100\n",
      "6/6 [==============================] - 0s 2ms/step - loss: 2.8145 - accuracy: 0.7247\n",
      "Epoch 47/100\n",
      "6/6 [==============================] - 0s 2ms/step - loss: 2.7886 - accuracy: 0.7191\n",
      "Epoch 48/100\n",
      "6/6 [==============================] - 0s 2ms/step - loss: 2.7514 - accuracy: 0.7135\n",
      "Epoch 49/100\n",
      "6/6 [==============================] - 0s 2ms/step - loss: 2.7203 - accuracy: 0.7247\n",
      "Epoch 50/100\n",
      "6/6 [==============================] - 0s 2ms/step - loss: 2.6955 - accuracy: 0.7135\n",
      "Epoch 51/100\n",
      "6/6 [==============================] - 0s 2ms/step - loss: 2.6674 - accuracy: 0.7135\n",
      "Epoch 52/100\n",
      "6/6 [==============================] - 0s 2ms/step - loss: 2.6493 - accuracy: 0.7191\n",
      "Epoch 53/100\n",
      "6/6 [==============================] - 0s 2ms/step - loss: 2.6172 - accuracy: 0.7247\n",
      "Epoch 54/100\n",
      "6/6 [==============================] - 0s 2ms/step - loss: 2.5820 - accuracy: 0.7247\n",
      "Epoch 55/100\n",
      "6/6 [==============================] - 0s 2ms/step - loss: 2.5601 - accuracy: 0.7135\n",
      "Epoch 56/100\n",
      "6/6 [==============================] - 0s 2ms/step - loss: 2.5366 - accuracy: 0.7303\n",
      "Epoch 57/100\n",
      "6/6 [==============================] - 0s 2ms/step - loss: 2.5018 - accuracy: 0.7303\n",
      "Epoch 58/100\n",
      "6/6 [==============================] - 0s 2ms/step - loss: 2.4844 - accuracy: 0.7247\n",
      "Epoch 59/100\n",
      "6/6 [==============================] - 0s 2ms/step - loss: 2.4437 - accuracy: 0.7191\n",
      "Epoch 60/100\n",
      "6/6 [==============================] - 0s 2ms/step - loss: 2.4330 - accuracy: 0.7303\n",
      "Epoch 61/100\n",
      "6/6 [==============================] - 0s 2ms/step - loss: 2.3869 - accuracy: 0.7303\n",
      "Epoch 62/100\n",
      "6/6 [==============================] - 0s 2ms/step - loss: 2.3936 - accuracy: 0.7191\n",
      "Epoch 63/100\n",
      "6/6 [==============================] - 0s 2ms/step - loss: 2.3600 - accuracy: 0.7303\n",
      "Epoch 64/100\n",
      "6/6 [==============================] - 0s 2ms/step - loss: 2.3260 - accuracy: 0.7303\n",
      "Epoch 65/100\n",
      "6/6 [==============================] - 0s 2ms/step - loss: 2.2819 - accuracy: 0.7303\n",
      "Epoch 66/100\n",
      "6/6 [==============================] - 0s 3ms/step - loss: 2.2657 - accuracy: 0.7247\n",
      "Epoch 67/100\n",
      "6/6 [==============================] - 0s 2ms/step - loss: 2.2356 - accuracy: 0.7303\n",
      "Epoch 68/100\n",
      "6/6 [==============================] - 0s 2ms/step - loss: 2.2005 - accuracy: 0.7303\n",
      "Epoch 69/100\n",
      "6/6 [==============================] - 0s 2ms/step - loss: 2.1799 - accuracy: 0.7303\n",
      "Epoch 70/100\n",
      "6/6 [==============================] - 0s 3ms/step - loss: 2.1512 - accuracy: 0.7303\n",
      "Epoch 71/100\n",
      "6/6 [==============================] - 0s 2ms/step - loss: 2.1408 - accuracy: 0.7303\n",
      "Epoch 72/100\n",
      "6/6 [==============================] - 0s 2ms/step - loss: 2.0888 - accuracy: 0.7247\n",
      "Epoch 73/100\n",
      "6/6 [==============================] - 0s 2ms/step - loss: 2.0779 - accuracy: 0.7247\n",
      "Epoch 74/100\n",
      "6/6 [==============================] - 0s 2ms/step - loss: 2.0545 - accuracy: 0.7416\n",
      "Epoch 75/100\n",
      "6/6 [==============================] - 0s 2ms/step - loss: 2.0337 - accuracy: 0.7303\n",
      "Epoch 76/100\n",
      "6/6 [==============================] - 0s 2ms/step - loss: 1.9971 - accuracy: 0.7303\n",
      "Epoch 77/100\n",
      "6/6 [==============================] - 0s 2ms/step - loss: 1.9535 - accuracy: 0.7360\n",
      "Epoch 78/100\n",
      "6/6 [==============================] - 0s 2ms/step - loss: 1.9365 - accuracy: 0.7360\n",
      "Epoch 79/100\n",
      "6/6 [==============================] - 0s 2ms/step - loss: 1.9202 - accuracy: 0.7360\n",
      "Epoch 80/100\n",
      "6/6 [==============================] - 0s 2ms/step - loss: 1.8776 - accuracy: 0.7360\n",
      "Epoch 81/100\n",
      "6/6 [==============================] - 0s 2ms/step - loss: 1.8575 - accuracy: 0.7303\n",
      "Epoch 82/100\n",
      "6/6 [==============================] - 0s 2ms/step - loss: 1.8219 - accuracy: 0.7360\n",
      "Epoch 83/100\n",
      "6/6 [==============================] - 0s 2ms/step - loss: 1.7950 - accuracy: 0.7360\n",
      "Epoch 84/100\n",
      "6/6 [==============================] - 0s 2ms/step - loss: 1.7643 - accuracy: 0.7303\n",
      "Epoch 85/100\n",
      "6/6 [==============================] - 0s 2ms/step - loss: 1.7730 - accuracy: 0.7303\n",
      "Epoch 86/100\n",
      "6/6 [==============================] - 0s 3ms/step - loss: 1.7352 - accuracy: 0.7247\n",
      "Epoch 87/100\n",
      "6/6 [==============================] - 0s 2ms/step - loss: 1.7098 - accuracy: 0.7416\n",
      "Epoch 88/100\n",
      "6/6 [==============================] - 0s 2ms/step - loss: 1.7511 - accuracy: 0.7472\n",
      "Epoch 89/100\n",
      "6/6 [==============================] - 0s 1ms/step - loss: 1.7224 - accuracy: 0.7416\n",
      "Epoch 90/100\n",
      "6/6 [==============================] - 0s 2ms/step - loss: 1.6636 - accuracy: 0.7528\n",
      "Epoch 91/100\n",
      "6/6 [==============================] - 0s 2ms/step - loss: 1.5951 - accuracy: 0.7416\n",
      "Epoch 92/100\n",
      "6/6 [==============================] - 0s 2ms/step - loss: 1.5834 - accuracy: 0.7528\n",
      "Epoch 93/100\n",
      "6/6 [==============================] - 0s 2ms/step - loss: 1.5438 - accuracy: 0.7472\n",
      "Epoch 94/100\n",
      "6/6 [==============================] - 0s 2ms/step - loss: 1.5480 - accuracy: 0.7416\n",
      "Epoch 95/100\n",
      "6/6 [==============================] - 0s 2ms/step - loss: 1.5042 - accuracy: 0.7584\n",
      "Epoch 96/100\n",
      "6/6 [==============================] - 0s 2ms/step - loss: 1.5043 - accuracy: 0.7584\n",
      "Epoch 97/100\n",
      "6/6 [==============================] - 0s 1ms/step - loss: 1.4606 - accuracy: 0.7584\n",
      "Epoch 98/100\n",
      "6/6 [==============================] - 0s 2ms/step - loss: 1.4740 - accuracy: 0.7584\n",
      "Epoch 99/100\n",
      "6/6 [==============================] - 0s 2ms/step - loss: 1.4972 - accuracy: 0.7528\n",
      "Epoch 100/100\n",
      "6/6 [==============================] - 0s 2ms/step - loss: 1.3958 - accuracy: 0.7697\n"
     ]
    },
    {
     "data": {
      "text/plain": [
       "<keras.callbacks.History at 0x248ca7d9160>"
      ]
     },
     "execution_count": 25,
     "metadata": {},
     "output_type": "execute_result"
    }
   ],
   "source": [
    "model.fit(X, y_cat, epochs=100)"
   ]
  },
  {
   "cell_type": "code",
   "execution_count": 26,
   "id": "824f2bdc",
   "metadata": {},
   "outputs": [],
   "source": [
    "myloss = model.history.history['loss']"
   ]
  },
  {
   "cell_type": "code",
   "execution_count": 27,
   "id": "823bfed3",
   "metadata": {},
   "outputs": [
    {
     "data": {
      "text/plain": [
       "list"
      ]
     },
     "execution_count": 27,
     "metadata": {},
     "output_type": "execute_result"
    }
   ],
   "source": [
    "type(myloss)"
   ]
  },
  {
   "cell_type": "code",
   "execution_count": 28,
   "id": "5fd6148d",
   "metadata": {},
   "outputs": [],
   "source": [
    "myloss_final = pandas.DataFrame(myloss)"
   ]
  },
  {
   "cell_type": "code",
   "execution_count": 29,
   "id": "6fc1d5fa",
   "metadata": {},
   "outputs": [
    {
     "data": {
      "text/plain": [
       "pandas.core.frame.DataFrame"
      ]
     },
     "execution_count": 29,
     "metadata": {},
     "output_type": "execute_result"
    }
   ],
   "source": [
    "type(myloss_final)"
   ]
  },
  {
   "cell_type": "code",
   "execution_count": 30,
   "id": "6a5423cc",
   "metadata": {},
   "outputs": [
    {
     "data": {
      "text/plain": [
       "<AxesSubplot:>"
      ]
     },
     "execution_count": 30,
     "metadata": {},
     "output_type": "execute_result"
    },
    {
     "data": {
      "image/png": "[encoded data removed]",
      "text/plain": [
       "<Figure size 432x288 with 1 Axes>"
      ]
     },
     "metadata": {
      "needs_background": "light"
     },
     "output_type": "display_data"
    }
   ],
   "source": [
    "myloss_final.plot()"
   ]
  },
  {
   "cell_type": "code",
   "execution_count": null,
   "id": "368a93c2",
   "metadata": {},
   "outputs": [],
   "source": []
  }
 ],
 "metadata": {
  "kernelspec": {
   "display_name": "Python 3",
   "language": "python",
   "name": "python3"
  },
  "language_info": {
   "codemirror_mode": {
    "name": "ipython",
    "version": 3
   },
   "file_extension": ".py",
   "mimetype": "text/x-python",
   "name": "python",
   "nbconvert_exporter": "python",
   "pygments_lexer": "ipython3",
   "version": "3.8.8"
  }
 },
 "nbformat": 4,
 "nbformat_minor": 5
}
